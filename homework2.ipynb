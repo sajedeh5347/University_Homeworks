{
 "cells": [
  {
   "cell_type": "code",
   "execution_count": 1,
   "metadata": {},
   "outputs": [],
   "source": [
    "import numpy as np"
   ]
  },
  {
   "cell_type": "code",
   "execution_count": 2,
   "metadata": {},
   "outputs": [],
   "source": [
    "#The program is written assuming that the points are distinct.\n",
    "def being_parallel(X,Y):\n",
    "    #m:The slope of the sides of the figure\n",
    "    m=[]\n",
    "    #L_s: The length of the sides of the rectangle \n",
    "    L_s=np.zeros(2)\n",
    "    for i in range(4):\n",
    "        if (X[i]-X[i-1])==0 :\n",
    "            m.append('tn')\n",
    "        else:\n",
    "            m.append((Y[i]-Y[i-1])/(X[i]-X[i-1]))\n",
    "\n",
    "    #L_D1,2:The length of the diameters\n",
    "    \n",
    "    L_D1=np.sqrt((X[0]-X[2])**2+(Y[0]-Y[2])**2)\n",
    "    L_D2=np.sqrt((X[1]-X[3])**2+(Y[1]-Y[3])**2)\n",
    "    \n",
    "    L_s[0]=np.sqrt((X[1]-X[0])**2+(Y[1]-Y[0])**2)\n",
    "    L_s[1]=np.sqrt((X[2]-X[1])**2+(Y[2]-Y[1])**2)\n",
    "    \n",
    "    a=np.sqrt(L_s[0]**2+L_s[1]**2)\n",
    "    if m[0]==m[2] and m[1]==m[3] and L_D1==L_D2==a:\n",
    "        return 'True',L_s\n",
    "    else:\n",
    "        return 'False',L_s"
   ]
  },
  {
   "cell_type": "code",
   "execution_count": 3,
   "metadata": {},
   "outputs": [],
   "source": [
    "def Perimeter_Area (L_s):\n",
    "    A=L_s[0]*L_s[1]\n",
    "    P=2*(L_s[0]+L_s[1])\n",
    "    return A,P"
   ]
  },
  {
   "cell_type": "code",
   "execution_count": 4,
   "metadata": {},
   "outputs": [
    {
     "name": "stdout",
     "output_type": "stream",
     "text": [
      "Please enter the coordinates(x,y) : 0,0\n",
      "Please enter the coordinates(x,y) : 0,1\n",
      "Please enter the coordinates(x,y) : 1,1\n",
      "Please enter the coordinates(x,y) : 1,0\n"
     ]
    }
   ],
   "source": [
    "x=np.zeros(4)\n",
    "y=np.zeros(4)\n",
    "for i in range(4):\n",
    "    x[i], y[i] = input( \"Please enter the coordinates(x,y) : \" ).split(',')"
   ]
  },
  {
   "cell_type": "code",
   "execution_count": 5,
   "metadata": {},
   "outputs": [
    {
     "name": "stdout",
     "output_type": "stream",
     "text": [
      "True\n",
      "Area of rectangle: 1.0 \n",
      "Perimeter of rectangle: 4.0\n"
     ]
    }
   ],
   "source": [
    "b,c=being_parallel(x,y)\n",
    "\n",
    "if b=='True':\n",
    "    print(b)\n",
    "    a,p=Perimeter_Area (c)\n",
    "    print('Area of rectangle:',a,'''\n",
    "Perimeter of rectangle:''',p)\n",
    "else:\n",
    "    print(b)"
   ]
  },
  {
   "cell_type": "code",
   "execution_count": 6,
   "metadata": {},
   "outputs": [
    {
     "name": "stdout",
     "output_type": "stream",
     "text": [
      "Please enter the coordinates(x,y) : 0,0\n",
      "Please enter the coordinates(x,y) : 0,1\n",
      "Please enter the coordinates(x,y) : 2,2\n",
      "Please enter the coordinates(x,y) : 1,0\n"
     ]
    }
   ],
   "source": [
    "x=np.zeros(4)\n",
    "y=np.zeros(4)\n",
    "for i in range(4):\n",
    "    x[i], y[i] = input( \"Please enter the coordinates(x,y) : \" ).split(',')"
   ]
  },
  {
   "cell_type": "code",
   "execution_count": 7,
   "metadata": {},
   "outputs": [
    {
     "name": "stdout",
     "output_type": "stream",
     "text": [
      "False\n"
     ]
    }
   ],
   "source": [
    "b,c=being_parallel(x,y)\n",
    "\n",
    "if b=='True':\n",
    "    print(b)\n",
    "    a,p=Perimeter_Area (c)\n",
    "    print('Area of rectangle:',a,'''\n",
    "Perimeter of rectangle:''',p)\n",
    "else:\n",
    "    print(b)"
   ]
  },
  {
   "cell_type": "code",
   "execution_count": 8,
   "metadata": {},
   "outputs": [
    {
     "name": "stdout",
     "output_type": "stream",
     "text": [
      "Please enter the coordinates(x,y) : 2,2\n",
      "Please enter the coordinates(x,y) : 1,0\n",
      "Please enter the coordinates(x,y) : 0,0\n",
      "Please enter the coordinates(x,y) : 0,1\n"
     ]
    }
   ],
   "source": [
    "x=np.zeros(4)\n",
    "y=np.zeros(4)\n",
    "for i in range(4):\n",
    "    x[i], y[i] = input( \"Please enter the coordinates(x,y) : \" ).split(',')"
   ]
  },
  {
   "cell_type": "code",
   "execution_count": 9,
   "metadata": {},
   "outputs": [
    {
     "name": "stdout",
     "output_type": "stream",
     "text": [
      "False\n"
     ]
    }
   ],
   "source": [
    "b,c=being_parallel(x,y)\n",
    "\n",
    "if b=='True':\n",
    "    print(b)\n",
    "    a,p=Perimeter_Area (c)\n",
    "    print('Area of rectangle:',a,'''\n",
    "Perimeter of rectangle:''',p)\n",
    "else:\n",
    "    print(b)"
   ]
  },
  {
   "cell_type": "code",
   "execution_count": null,
   "metadata": {},
   "outputs": [],
   "source": []
  }
 ],
 "metadata": {
  "kernelspec": {
   "display_name": "Python 3",
   "language": "python",
   "name": "python3"
  },
  "language_info": {
   "codemirror_mode": {
    "name": "ipython",
    "version": 3
   },
   "file_extension": ".py",
   "mimetype": "text/x-python",
   "name": "python",
   "nbconvert_exporter": "python",
   "pygments_lexer": "ipython3",
   "version": "3.8.5"
  },
  "nbTranslate": {
   "displayLangs": [
    "en"
   ],
   "hotkey": "alt-t",
   "langInMainMenu": true,
   "sourceLang": "en",
   "targetLang": "fr",
   "useGoogleTranslate": true
  },
  "toc": {
   "base_numbering": 1,
   "nav_menu": {},
   "number_sections": true,
   "sideBar": true,
   "skip_h1_title": false,
   "title_cell": "Table of Contents",
   "title_sidebar": "Contents",
   "toc_cell": false,
   "toc_position": {},
   "toc_section_display": true,
   "toc_window_display": false
  },
  "varInspector": {
   "cols": {
    "lenName": 16,
    "lenType": 16,
    "lenVar": 40
   },
   "kernels_config": {
    "python": {
     "delete_cmd_postfix": "",
     "delete_cmd_prefix": "del ",
     "library": "var_list.py",
     "varRefreshCmd": "print(var_dic_list())"
    },
    "r": {
     "delete_cmd_postfix": ") ",
     "delete_cmd_prefix": "rm(",
     "library": "var_list.r",
     "varRefreshCmd": "cat(var_dic_list()) "
    }
   },
   "types_to_exclude": [
    "module",
    "function",
    "builtin_function_or_method",
    "instance",
    "_Feature"
   ],
   "window_display": false
  }
 },
 "nbformat": 4,
 "nbformat_minor": 4
}
