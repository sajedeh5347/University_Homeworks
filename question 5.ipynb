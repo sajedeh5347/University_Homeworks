{
 "cells": [
  {
   "cell_type": "code",
   "execution_count": 1,
   "metadata": {},
   "outputs": [],
   "source": [
    "import numpy as np\n",
    "import sympy as sp\n",
    "import math \n",
    "import matplotlib\n",
    "import matplotlib.cm as cm\n",
    "import matplotlib.pyplot as plt"
   ]
  },
  {
   "cell_type": "code",
   "execution_count": 2,
   "metadata": {},
   "outputs": [],
   "source": [
    "def gradian_matrix(F,X):\n",
    "    A=[]\n",
    "    for x in X:\n",
    "        A.append(sp.diff(F(X[0],X[1]),x))\n",
    "    A=np.array(A)\n",
    "    return A"
   ]
  },
  {
   "cell_type": "code",
   "execution_count": 3,
   "metadata": {},
   "outputs": [],
   "source": [
    "def Hessian_matrix(G,X):\n",
    "    A=[]\n",
    "    for g in G:\n",
    "        B=[]\n",
    "        for x in X:\n",
    "            B.append(sp.diff(g,x)) \n",
    "        A.append(B)\n",
    "    A=np.array(A)\n",
    "    return A"
   ]
  },
  {
   "cell_type": "code",
   "execution_count": 4,
   "metadata": {},
   "outputs": [],
   "source": [
    "def learning_rate(g,A):\n",
    "    p=-1*g\n",
    "    a=np.dot(np.transpose(g),p)\n",
    "    b=np.dot(np.transpose(p),A)\n",
    "    c=np.dot(b,p)\n",
    "    if c==0:\n",
    "        return 0\n",
    "    else:\n",
    "        return -(a/c)"
   ]
  },
  {
   "cell_type": "code",
   "execution_count": 5,
   "metadata": {},
   "outputs": [],
   "source": [
    "def steepest_Descent(F,X,x,iter,accuracy):\n",
    "    iteration=0\n",
    "    error=[1,1]\n",
    "    while(True):\n",
    "        g=gradian_matrix(F,X)\n",
    "        A=Hessian_matrix(g,X)\n",
    "        for row in range(A.shape[0]):\n",
    "             for col in range(A.shape[1]) :\n",
    "                A[row,col]=A[row,col].evalf(subs={x1:x[0], x2:x[1]})\n",
    "        for i in range(len(g)):\n",
    "            g[i]=g[i].evalf(subs={x1:x[0], x2:x[1]})\n",
    "            \n",
    "        alfa=learning_rate(g,A)\n",
    "        xx=x-alfa*g\n",
    "        for i in range(len(x)):\n",
    "            error[i]=abs(x[i]-xx[i])\n",
    "            \n",
    "        if error[0]>accuracy and error[1]>accuracy:\n",
    "            x=xx\n",
    "        else:\n",
    "            print(f'''Optimal point is {xx}.\n",
    "learning rate in the last iteration is {alfa}\n",
    "The number of iteration is {iteration} ''')\n",
    "            break\n",
    "        if iteration==iter and error[0]>accuracy and error[1]>accuracy:\n",
    "            print(f'''steepest_Descent's algorithm faild 😢!!\n",
    "learning rate in the last iteration is {alfa}\n",
    "The number of iteration is {iteration}''')\n",
    "            break\n",
    "        iteration+=1"
   ]
  },
  {
   "cell_type": "code",
   "execution_count": 6,
   "metadata": {},
   "outputs": [],
   "source": [
    "def F(x1,x2):\n",
    "    return (x1+x2)**4-12*x1*x2+x1+x2+1"
   ]
  },
  {
   "cell_type": "code",
   "execution_count": 7,
   "metadata": {},
   "outputs": [],
   "source": [
    "x1=sp.Symbol('x1')\n",
    "x2=sp.Symbol('x2')\n",
    "X=[x1,x2]"
   ]
  },
  {
   "cell_type": "code",
   "execution_count": 8,
   "metadata": {},
   "outputs": [
    {
     "name": "stdout",
     "output_type": "stream",
     "text": [
      "Optimal point is [-0.651172311413301 -0.645263938238729].\n",
      "learning rate in the last iteration is 0.0626568704831387\n",
      "The number of iteration is 8 \n"
     ]
    }
   ],
   "source": [
    "x=[-1,-7]\n",
    "steepest_Descent(F,X,x,100,0.01)"
   ]
  },
  {
   "cell_type": "code",
   "execution_count": 9,
   "metadata": {},
   "outputs": [
    {
     "name": "stdout",
     "output_type": "stream",
     "text": [
      "Optimal point is [0.565506689045490 0.565452643712986].\n",
      "learning rate in the last iteration is 0.0525162575081811\n",
      "The number of iteration is 16 \n"
     ]
    }
   ],
   "source": [
    "x=[100,70]\n",
    "steepest_Descent(F,X,x,100,0.01)"
   ]
  },
  {
   "cell_type": "code",
   "execution_count": 10,
   "metadata": {},
   "outputs": [
    {
     "name": "stdout",
     "output_type": "stream",
     "text": [
      "Optimal point is [-0.650182591009065 -0.648119503665440].\n",
      "learning rate in the last iteration is 0.0728725599163583\n",
      "The number of iteration is 5 \n"
     ]
    }
   ],
   "source": [
    "x=[-2,-1]\n",
    "steepest_Descent(F,X,x,100,0.01)"
   ]
  },
  {
   "cell_type": "code",
   "execution_count": 11,
   "metadata": {},
   "outputs": [],
   "source": [
    "def Newton(F,X,x,iter,accuracy):\n",
    "    error=[1,1]\n",
    "    iteration=0\n",
    "    while error[0]>accuracy and error[1]>accuracy :\n",
    "        g=gradian_matrix(F,X)\n",
    "        A=Hessian_matrix(g,X)\n",
    "        for row in range(A.shape[0]):\n",
    "            for col in range(A.shape[1]) :\n",
    "                A[row,col]=A[row,col].evalf(subs={x1:x[0], x2:x[1]})\n",
    "    \n",
    "        for i in range(len(g)):\n",
    "            g[i]=g[i].evalf(subs={x1:x[0], x2:x[1]})\n",
    "            \n",
    "        A=A.astype(float)       \n",
    "        A_invers=np.linalg.inv(A)\n",
    "        xx=x-np.dot(A_invers,g)\n",
    "        \n",
    "        for i in range(len(x)):\n",
    "            error[i]=abs(x[i]-xx[i])\n",
    "        if error[0]>accuracy and error[1]>accuracy:\n",
    "            x=xx\n",
    "        else:\n",
    "            print(f'''Optimal point is {xx}.\n",
    "The number of iteration is {iteration} \n",
    "error in last iteration{error}''')\n",
    "            break\n",
    "\n",
    "        if iteration==iter and error[0]>accuracy and error[1]>accuracy:\n",
    "            print(f'''Newton's algorithm faild 😢!!\n",
    "The number of iteration is {iteration} ''')\n",
    "            break\n",
    "        iteration+=1   \n",
    "    return "
   ]
  },
  {
   "cell_type": "code",
   "execution_count": 12,
   "metadata": {},
   "outputs": [
    {
     "name": "stdout",
     "output_type": "stream",
     "text": [
      "Optimal point is [-0.650420004943229 -0.650420004943229].\n",
      "The number of iteration is 7 \n",
      "error in last iteration[0.000318877076180502, 0.000318877076180502]\n"
     ]
    }
   ],
   "source": [
    "x=[-1,-7]\n",
    "Newton(F,X,x,100,0.01)"
   ]
  },
  {
   "cell_type": "code",
   "execution_count": 13,
   "metadata": {},
   "outputs": [
    {
     "name": "stdout",
     "output_type": "stream",
     "text": [
      "Optimal point is [0.565451035167735 0.565451035167735].\n",
      "The number of iteration is 15 \n",
      "error in last iteration[0.000403870741469858, 0.000403870741469858]\n"
     ]
    }
   ],
   "source": [
    "x=[100,70]\n",
    "Newton(F,X,x,100,0.01)"
   ]
  },
  {
   "cell_type": "code",
   "execution_count": 14,
   "metadata": {},
   "outputs": [
    {
     "name": "stdout",
     "output_type": "stream",
     "text": [
      "Optimal point is [-0.650432701194027 -0.650432701194027].\n",
      "The number of iteration is 4 \n",
      "error in last iteration[0.00243000817633565, 0.00243000817633565]\n"
     ]
    }
   ],
   "source": [
    "x=[-2,-1]\n",
    "Newton(F,X,x,100,0.01)"
   ]
  },
  {
   "cell_type": "code",
   "execution_count": 15,
   "metadata": {},
   "outputs": [
    {
     "data": {
      "image/png": "[encoded data removed]",
      "text/plain": [
       "<Figure size 432x288 with 1 Axes>"
      ]
     },
     "metadata": {
      "needs_background": "light"
     },
     "output_type": "display_data"
    }
   ],
   "source": [
    "delta=0.001\n",
    "x=np.arange(-5.0,5.0,delta)\n",
    "y=np.arange(-2.0,2.0,delta)\n",
    "X,Y=np.meshgrid(x,y)\n",
    "z=(X+Y)**4-12*X*Y+X+Y+1\n",
    "fig,ax=plt.subplots()\n",
    "CS=ax.contour(X,Y,z)\n"
   ]
  },
  {
   "cell_type": "markdown",
   "metadata": {},
   "source": [
    "در هر دو روش به نزدیک ترین نقطه بهینه همگرا می شویم اما در روش نیوتن این همگرایی سریع تر رخ می دهد."
   ]
  },
  {
   "cell_type": "code",
   "execution_count": null,
   "metadata": {},
   "outputs": [],
   "source": []
  }
 ],
 "metadata": {
  "kernelspec": {
   "display_name": "Python 3",
   "language": "python",
   "name": "python3"
  },
  "language_info": {
   "codemirror_mode": {
    "name": "ipython",
    "version": 3
   },
   "file_extension": ".py",
   "mimetype": "text/x-python",
   "name": "python",
   "nbconvert_exporter": "python",
   "pygments_lexer": "ipython3",
   "version": "3.8.5"
  },
  "nbTranslate": {
   "displayLangs": [
    "en"
   ],
   "hotkey": "alt-t",
   "langInMainMenu": true,
   "sourceLang": "en",
   "targetLang": "fr",
   "useGoogleTranslate": true
  },
  "toc": {
   "base_numbering": 1,
   "nav_menu": {},
   "number_sections": true,
   "sideBar": true,
   "skip_h1_title": false,
   "title_cell": "Table of Contents",
   "title_sidebar": "Contents",
   "toc_cell": false,
   "toc_position": {},
   "toc_section_display": true,
   "toc_window_display": false
  },
  "varInspector": {
   "cols": {
    "lenName": 16,
    "lenType": 16,
    "lenVar": 40
   },
   "kernels_config": {
    "python": {
     "delete_cmd_postfix": "",
     "delete_cmd_prefix": "del ",
     "library": "var_list.py",
     "varRefreshCmd": "print(var_dic_list())"
    },
    "r": {
     "delete_cmd_postfix": ") ",
     "delete_cmd_prefix": "rm(",
     "library": "var_list.r",
     "varRefreshCmd": "cat(var_dic_list()) "
    }
   },
   "types_to_exclude": [
    "module",
    "function",
    "builtin_function_or_method",
    "instance",
    "_Feature"
   ],
   "window_display": false
  }
 },
 "nbformat": 4,
 "nbformat_minor": 4
}
