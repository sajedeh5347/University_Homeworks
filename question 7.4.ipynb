{
 "cells": [
  {
   "cell_type": "code",
   "execution_count": 1,
   "metadata": {},
   "outputs": [],
   "source": [
    "import cv2\n",
    "import numpy as np\n",
    "import matplotlib.pyplot as plt\n",
    "from mpl_toolkits.mplot3d import Axes3D\n",
    "from scipy import ndimage\n",
    "from skimage.color import rgb2gray,gray2rgb\n",
    "from sklearn.decomposition import PCA"
   ]
  },
  {
   "cell_type": "code",
   "execution_count": 2,
   "metadata": {},
   "outputs": [
    {
     "name": "stdout",
     "output_type": "stream",
     "text": [
      "[[0. 0. 0. ... 1. 1. 1.]\n",
      " [0. 1. 0. ... 0. 1. 1.]\n",
      " [0. 1. 1. ... 1. 0. 0.]\n",
      " ...\n",
      " [1. 1. 1. ... 0. 1. 0.]\n",
      " [1. 0. 1. ... 0. 0. 0.]\n",
      " [1. 0. 1. ... 1. 0. 0.]]\n"
     ]
    }
   ],
   "source": [
    "B=np.random.rand(150,150)\n",
    "A=np.zeros((150,150))\n",
    "for row in range(150):\n",
    "    for col in range(150):\n",
    "        if row<50 and col<50 or 50<=row<100 and 50<=col<100 or row>=100 and col>=100:\n",
    "            A[row,col]=0.7\n",
    "        else:\n",
    "            A[row,col]=0.3\n",
    "        if A[row,col]<=B[row,col]:\n",
    "            A[row,col]=1\n",
    "        else:\n",
    "            A[row,col]=0\n",
    "print(A)"
   ]
  },
  {
   "cell_type": "code",
   "execution_count": 3,
   "metadata": {},
   "outputs": [],
   "source": [
    "##shuffle colums andd row\n",
    "shuffled_indices = np.random.permutation(A.shape[0])\n",
    "A= A[shuffled_indices]\n",
    "A=np.transpose(A)\n",
    "A= A[shuffled_indices]\n",
    "A=np.transpose(A)\n",
    "A=np.float32(A)"
   ]
  },
  {
   "cell_type": "code",
   "execution_count": 4,
   "metadata": {},
   "outputs": [],
   "source": [
    "criteria = (cv2.TERM_CRITERIA_EPS + cv2.TERM_CRITERIA_MAX_ITER, 10000, 0.001)"
   ]
  },
  {
   "cell_type": "code",
   "execution_count": 5,
   "metadata": {},
   "outputs": [
    {
     "data": {
      "text/plain": [
       "4631.840127944946"
      ]
     },
     "execution_count": 5,
     "metadata": {},
     "output_type": "execute_result"
    }
   ],
   "source": [
    "attempts=10\n",
    "error, labels, (centers) =cv2.kmeans(A,3,None,criteria,attempts,cv2.KMEANS_RANDOM_CENTERS)\n",
    "error"
   ]
  },
  {
   "cell_type": "code",
   "execution_count": 6,
   "metadata": {},
   "outputs": [
    {
     "data": {
      "image/png": "[encoded data removed]",
      "text/plain": [
       "<Figure size 576x360 with 1 Axes>"
      ]
     },
     "metadata": {
      "needs_background": "light"
     },
     "output_type": "display_data"
    }
   ],
   "source": [
    "errors= []\n",
    "attempts = 10\n",
    "for k in range(1,10):\n",
    "    error, labels, (centers) =cv2.kmeans(A,k,None,criteria,attempts,cv2.KMEANS_RANDOM_CENTERS) \n",
    "    errors.append(error)\n",
    "plt.figure(figsize=(8, 5))\n",
    "x=np.arange(1,k+1)\n",
    "plt.plot(x,errors)\n",
    "plt.show()"
   ]
  },
  {
   "cell_type": "code",
   "execution_count": 7,
   "metadata": {},
   "outputs": [
    {
     "data": {
      "text/plain": [
       "4631.840127944946"
      ]
     },
     "execution_count": 7,
     "metadata": {},
     "output_type": "execute_result"
    }
   ],
   "source": [
    "error, labels, (centers) =cv2.kmeans(A,3,None,criteria,attempts,cv2.KMEANS_RANDOM_CENTERS)\n",
    "error "
   ]
  },
  {
   "cell_type": "markdown",
   "metadata": {},
   "source": [
    "clustering data by k_means and using Albow method can be seen the best cluster is done at k = 3"
   ]
  },
  {
   "cell_type": "code",
   "execution_count": null,
   "metadata": {},
   "outputs": [],
   "source": []
  }
 ],
 "metadata": {
  "kernelspec": {
   "display_name": "Python 3",
   "language": "python",
   "name": "python3"
  },
  "language_info": {
   "codemirror_mode": {
    "name": "ipython",
    "version": 3
   },
   "file_extension": ".py",
   "mimetype": "text/x-python",
   "name": "python",
   "nbconvert_exporter": "python",
   "pygments_lexer": "ipython3",
   "version": "3.8.5"
  },
  "nbTranslate": {
   "displayLangs": [
    "en"
   ],
   "hotkey": "alt-t",
   "langInMainMenu": true,
   "sourceLang": "en",
   "targetLang": "fr",
   "useGoogleTranslate": true
  },
  "toc": {
   "base_numbering": 1,
   "nav_menu": {},
   "number_sections": true,
   "sideBar": true,
   "skip_h1_title": false,
   "title_cell": "Table of Contents",
   "title_sidebar": "Contents",
   "toc_cell": false,
   "toc_position": {},
   "toc_section_display": true,
   "toc_window_display": false
  },
  "varInspector": {
   "cols": {
    "lenName": 16,
    "lenType": 16,
    "lenVar": 40
   },
   "kernels_config": {
    "python": {
     "delete_cmd_postfix": "",
     "delete_cmd_prefix": "del ",
     "library": "var_list.py",
     "varRefreshCmd": "print(var_dic_list())"
    },
    "r": {
     "delete_cmd_postfix": ") ",
     "delete_cmd_prefix": "rm(",
     "library": "var_list.r",
     "varRefreshCmd": "cat(var_dic_list()) "
    }
   },
   "types_to_exclude": [
    "module",
    "function",
    "builtin_function_or_method",
    "instance",
    "_Feature"
   ],
   "window_display": false
  }
 },
 "nbformat": 4,
 "nbformat_minor": 4
}
