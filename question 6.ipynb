{
 "cells": [
  {
   "cell_type": "code",
   "execution_count": 1,
   "metadata": {},
   "outputs": [],
   "source": [
    "import numpy as np\n",
    "import sympy as sp\n",
    "import math"
   ]
  },
  {
   "cell_type": "code",
   "execution_count": 2,
   "metadata": {},
   "outputs": [],
   "source": [
    "def gradian_matrix(F,X):\n",
    "    A=[]\n",
    "    for x in X:\n",
    "        A.append(sp.diff(F(X[0],X[1]),x))\n",
    "    A=np.array(A)\n",
    "    return A"
   ]
  },
  {
   "cell_type": "code",
   "execution_count": 3,
   "metadata": {},
   "outputs": [],
   "source": [
    "def Hessian_matrix(G,X):\n",
    "    A=[]\n",
    "    for g in G:\n",
    "        B=[]\n",
    "        for x in X:\n",
    "            B.append(sp.diff(g,x)) \n",
    "        A.append(B)\n",
    "    A=np.array(A)\n",
    "    return A"
   ]
  },
  {
   "cell_type": "code",
   "execution_count": 4,
   "metadata": {},
   "outputs": [],
   "source": [
    "def steepest_Descent(F,X,x,alfa):\n",
    "    iteration=0\n",
    "    error=[1,1]\n",
    "    while(True):\n",
    "        g=gradian_matrix(F,X)\n",
    "        A=Hessian_matrix(g,X)\n",
    "        for row in range(A.shape[0]):\n",
    "             for col in range(A.shape[1]) :\n",
    "                A[row,col]=A[row,col].evalf(subs={x1:x[0], x2:x[1]})\n",
    "        for i in range(len(g)):\n",
    "            g[i]=g[i].evalf(subs={x1:x[0], x2:x[1]})\n",
    "            \n",
    "        xx=x-alfa*g\n",
    "        for i in range(len(x)):\n",
    "            error[i]=abs(x[i]-xx[i])\n",
    "            \n",
    "        if error[0]>0.00000001 and error[1]>0.00000001:\n",
    "            x=xx\n",
    "        else:\n",
    "            return xx ,True \n",
    "            break\n",
    "        if iteration==10 and error[0]>0.00000001 and error[1]>0.00000001:\n",
    "            return \"algorithm faild 😢!!\",False\n",
    "            break\n",
    "        iteration+=1"
   ]
  },
  {
   "cell_type": "code",
   "execution_count": 5,
   "metadata": {},
   "outputs": [],
   "source": [
    "def F(x1,x2):\n",
    "    return 3*x1**2-2*x1*x2+3*x2**2-x1-x2"
   ]
  },
  {
   "cell_type": "code",
   "execution_count": 6,
   "metadata": {},
   "outputs": [],
   "source": [
    "x1=sp.Symbol('x1')\n",
    "x2=sp.Symbol('x2')\n",
    "X=[x1,x2]"
   ]
  },
  {
   "cell_type": "code",
   "execution_count": 7,
   "metadata": {},
   "outputs": [
    {
     "data": {
      "text/plain": [
       "('algorithm faild 😢!!', False)"
      ]
     },
     "execution_count": 7,
     "metadata": {},
     "output_type": "execute_result"
    }
   ],
   "source": [
    "x=[0,0]\n",
    "steepest_Descent(F,X,x,0.5)"
   ]
  },
  {
   "cell_type": "code",
   "execution_count": 8,
   "metadata": {},
   "outputs": [
    {
     "data": {
      "text/plain": [
       "(array([0.250000000000000, 0.250000000000000], dtype=object), True)"
      ]
     },
     "execution_count": 8,
     "metadata": {},
     "output_type": "execute_result"
    }
   ],
   "source": [
    "x=[0,0]\n",
    "steepest_Descent(F,X,x,0.25)"
   ]
  },
  {
   "cell_type": "code",
   "execution_count": 9,
   "metadata": {},
   "outputs": [
    {
     "data": {
      "text/plain": [
       "('algorithm faild 😢!!', False)"
      ]
     },
     "execution_count": 9,
     "metadata": {},
     "output_type": "execute_result"
    }
   ],
   "source": [
    "x=[0,0]\n",
    "steepest_Descent(F,X,x,0.2)"
   ]
  },
  {
   "cell_type": "code",
   "execution_count": 10,
   "metadata": {},
   "outputs": [
    {
     "name": "stdout",
     "output_type": "stream",
     "text": [
      "maximum alfa = 0.30000000000000004\n"
     ]
    }
   ],
   "source": [
    "x=[0,0]\n",
    "alfa=0.25\n",
    "status=True\n",
    "while status==True:\n",
    "    _,status=steepest_Descent(F,X,x,alfa)\n",
    "    alfa+=0.01\n",
    "print(f'maximum alfa = {alfa-0.01}')"
   ]
  },
  {
   "cell_type": "code",
   "execution_count": null,
   "metadata": {},
   "outputs": [],
   "source": []
  }
 ],
 "metadata": {
  "kernelspec": {
   "display_name": "Python 3",
   "language": "python",
   "name": "python3"
  },
  "language_info": {
   "codemirror_mode": {
    "name": "ipython",
    "version": 3
   },
   "file_extension": ".py",
   "mimetype": "text/x-python",
   "name": "python",
   "nbconvert_exporter": "python",
   "pygments_lexer": "ipython3",
   "version": "3.8.5"
  },
  "nbTranslate": {
   "displayLangs": [
    "en"
   ],
   "hotkey": "alt-t",
   "langInMainMenu": true,
   "sourceLang": "en",
   "targetLang": "fr",
   "useGoogleTranslate": true
  },
  "toc": {
   "base_numbering": 1,
   "nav_menu": {},
   "number_sections": true,
   "sideBar": true,
   "skip_h1_title": false,
   "title_cell": "Table of Contents",
   "title_sidebar": "Contents",
   "toc_cell": false,
   "toc_position": {},
   "toc_section_display": true,
   "toc_window_display": false
  },
  "varInspector": {
   "cols": {
    "lenName": 16,
    "lenType": 16,
    "lenVar": 40
   },
   "kernels_config": {
    "python": {
     "delete_cmd_postfix": "",
     "delete_cmd_prefix": "del ",
     "library": "var_list.py",
     "varRefreshCmd": "print(var_dic_list())"
    },
    "r": {
     "delete_cmd_postfix": ") ",
     "delete_cmd_prefix": "rm(",
     "library": "var_list.r",
     "varRefreshCmd": "cat(var_dic_list()) "
    }
   },
   "types_to_exclude": [
    "module",
    "function",
    "builtin_function_or_method",
    "instance",
    "_Feature"
   ],
   "window_display": false
  }
 },
 "nbformat": 4,
 "nbformat_minor": 4
}
