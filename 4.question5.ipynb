{
 "cells": [
  {
   "cell_type": "code",
   "execution_count": 1,
   "metadata": {},
   "outputs": [],
   "source": [
    "import numpy as np\n",
    "import math"
   ]
  },
  {
   "cell_type": "markdown",
   "metadata": {},
   "source": [
    "program with bais"
   ]
  },
  {
   "cell_type": "code",
   "execution_count": 2,
   "metadata": {},
   "outputs": [],
   "source": [
    "def LMS(W,alfa,k):\n",
    "    b=0\n",
    "    w=np.array(W)\n",
    "    for i in range(k):\n",
    "        Z=np.array([np.sin((i-1)*np.pi/5),np.sin((i-2)*np.pi/5)]).reshape((2,1))\n",
    "        a=w.dot(Z)+b\n",
    "        e=np.sin(i*np.pi/5)-a\n",
    "        w=w+2*alfa*e*Z.T\n",
    "        b=b+2*alfa*e\n",
    "    w=[w[0,0],w[0,1]]\n",
    "    return w,b[0]"
   ]
  },
  {
   "cell_type": "code",
   "execution_count": 3,
   "metadata": {},
   "outputs": [
    {
     "name": "stdout",
     "output_type": "stream",
     "text": [
      "weights=[1.039953507372477, -0.5453013903113094]\n",
      "bais=[-0.12163901]\n"
     ]
    }
   ],
   "source": [
    "W,b=LMS([0,0],0.1,40)\n",
    "print(f'''weights={W}\n",
    "bais={b}''')\n"
   ]
  },
  {
   "cell_type": "markdown",
   "metadata": {},
   "source": [
    "program without bais"
   ]
  },
  {
   "cell_type": "code",
   "execution_count": 4,
   "metadata": {},
   "outputs": [],
   "source": [
    "def LMS(W,alfa,k):\n",
    "    w=np.array(W)\n",
    "    for i in range(k):\n",
    "        Z=np.array([np.sin((i-1)*np.pi/5),np.sin((i-2)*np.pi/5)]).reshape((2,1))\n",
    "        a=w.dot(Z)\n",
    "        e=np.sin(i*np.pi/5)-a\n",
    "        w=w+2*alfa*e*Z.T\n",
    "    w=[w[0,0],w[0,1]]\n",
    "    return w"
   ]
  },
  {
   "cell_type": "code",
   "execution_count": 5,
   "metadata": {},
   "outputs": [
    {
     "name": "stdout",
     "output_type": "stream",
     "text": [
      "weights=[1.0418061716588267, -0.4083934692788098]\n"
     ]
    }
   ],
   "source": [
    "W=LMS([0,0],0.1,40)\n",
    "print(f'weights={W}')"
   ]
  }
 ],
 "metadata": {
  "kernelspec": {
   "display_name": "Python 3",
   "language": "python",
   "name": "python3"
  },
  "language_info": {
   "codemirror_mode": {
    "name": "ipython",
    "version": 3
   },
   "file_extension": ".py",
   "mimetype": "text/x-python",
   "name": "python",
   "nbconvert_exporter": "python",
   "pygments_lexer": "ipython3",
   "version": "3.8.5"
  },
  "nbTranslate": {
   "displayLangs": [
    "en"
   ],
   "hotkey": "alt-t",
   "langInMainMenu": true,
   "sourceLang": "en",
   "targetLang": "fr",
   "useGoogleTranslate": true
  },
  "toc": {
   "base_numbering": 1,
   "nav_menu": {},
   "number_sections": true,
   "sideBar": true,
   "skip_h1_title": false,
   "title_cell": "Table of Contents",
   "title_sidebar": "Contents",
   "toc_cell": false,
   "toc_position": {},
   "toc_section_display": true,
   "toc_window_display": false
  },
  "varInspector": {
   "cols": {
    "lenName": 16,
    "lenType": 16,
    "lenVar": 40
   },
   "kernels_config": {
    "python": {
     "delete_cmd_postfix": "",
     "delete_cmd_prefix": "del ",
     "library": "var_list.py",
     "varRefreshCmd": "print(var_dic_list())"
    },
    "r": {
     "delete_cmd_postfix": ") ",
     "delete_cmd_prefix": "rm(",
     "library": "var_list.r",
     "varRefreshCmd": "cat(var_dic_list()) "
    }
   },
   "types_to_exclude": [
    "module",
    "function",
    "builtin_function_or_method",
    "instance",
    "_Feature"
   ],
   "window_display": false
  }
 },
 "nbformat": 4,
 "nbformat_minor": 4
}
